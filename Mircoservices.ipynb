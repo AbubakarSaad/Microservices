{
 "cells": [
  {
   "cell_type": "markdown",
   "metadata": {},
   "source": [
    "## What are Mircoservices\n",
    "\n",
    "* Little history\n",
    "    * Monolithic applications (Pre-SOA, 1990s and earlier): \n",
    "        * Its Tight coupling\n",
    "        * No changes can be made without changing the whole application\n",
    "        * If one functionality fails the whole applications fails\n",
    "    * Traditional SOA (Service-oriented architecture, 2000s) \n",
    "        * Looser coupling\n",
    "        * These services were quite large \n",
    "        * Incorrect usage (with some details omitted) introducts tight coupling\n",
    "    * Mircoservices (2010s)\n",
    "        * Decoupled\n",
    "        * No set rules but best practices apply\n",
    "        * Basic Principles of Microservices\n",
    "            * \"One microservice should only do one task, like fetching a customer from a backend\"\n",
    "            * \"It should be possible to develop and deploy a microservice completely independent from all other parts of an application\".\n",
    "            * \"Microservices should communicate using standard HTTP methods\". \n",
    "\n",
    "\n",
    "## Why use Mircoservices\n",
    "\n",
    "* Benefits of Using Microservices\n",
    "    * \"New developers don't have to understand the whole application\"\n",
    "    * \"Services can be developed and deployed by independent teams\".\n",
    "    * \"Services can be developed with the language that does a given task best\".\n",
    "    * \"If a services fails, not the while application has to fail\".\n",
    "\n",
    "\n",
    "## When to use Mircoservices\n",
    "\n",
    "\n",
    "* Don't be caught up with the hype.\n",
    "* Microservices architecture can be expense and complex. \n"
   ]
  }
 ],
 "metadata": {
  "kernelspec": {
   "display_name": "Python 3",
   "language": "python",
   "name": "python3"
  },
  "language_info": {
   "codemirror_mode": {
    "name": "ipython",
    "version": 3
   },
   "file_extension": ".py",
   "mimetype": "text/x-python",
   "name": "python",
   "nbconvert_exporter": "python",
   "pygments_lexer": "ipython3",
   "version": "3.6.5"
  }
 },
 "nbformat": 4,
 "nbformat_minor": 2
}
